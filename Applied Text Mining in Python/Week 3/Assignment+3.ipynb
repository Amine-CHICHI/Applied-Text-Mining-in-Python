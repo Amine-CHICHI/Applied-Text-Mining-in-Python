{
 "cells": [
  {
   "cell_type": "markdown",
   "metadata": {},
   "source": [
    "---\n",
    "\n",
    "_You are currently looking at **version 1.1** of this notebook. To download notebooks and datafiles, as well as get help on Jupyter notebooks in the Coursera platform, visit the [Jupyter Notebook FAQ](https://www.coursera.org/learn/python-text-mining/resources/d9pwm) course resource._\n",
    "\n",
    "---"
   ]
  },
  {
   "cell_type": "markdown",
   "metadata": {},
   "source": [
    "# Assignment 3\n",
    "\n",
    "In this assignment you will explore text message data and create models to predict if a message is spam or not. "
   ]
  },
  {
   "cell_type": "code",
   "execution_count": 3,
   "metadata": {},
   "outputs": [
    {
     "data": {
      "text/html": [
       "<div>\n",
       "<style>\n",
       "    .dataframe thead tr:only-child th {\n",
       "        text-align: right;\n",
       "    }\n",
       "\n",
       "    .dataframe thead th {\n",
       "        text-align: left;\n",
       "    }\n",
       "\n",
       "    .dataframe tbody tr th {\n",
       "        vertical-align: top;\n",
       "    }\n",
       "</style>\n",
       "<table border=\"1\" class=\"dataframe\">\n",
       "  <thead>\n",
       "    <tr style=\"text-align: right;\">\n",
       "      <th></th>\n",
       "      <th>text</th>\n",
       "      <th>target</th>\n",
       "    </tr>\n",
       "  </thead>\n",
       "  <tbody>\n",
       "    <tr>\n",
       "      <th>0</th>\n",
       "      <td>Go until jurong point, crazy.. Available only ...</td>\n",
       "      <td>0</td>\n",
       "    </tr>\n",
       "    <tr>\n",
       "      <th>1</th>\n",
       "      <td>Ok lar... Joking wif u oni...</td>\n",
       "      <td>0</td>\n",
       "    </tr>\n",
       "    <tr>\n",
       "      <th>2</th>\n",
       "      <td>Free entry in 2 a wkly comp to win FA Cup fina...</td>\n",
       "      <td>1</td>\n",
       "    </tr>\n",
       "    <tr>\n",
       "      <th>3</th>\n",
       "      <td>U dun say so early hor... U c already then say...</td>\n",
       "      <td>0</td>\n",
       "    </tr>\n",
       "    <tr>\n",
       "      <th>4</th>\n",
       "      <td>Nah I don't think he goes to usf, he lives aro...</td>\n",
       "      <td>0</td>\n",
       "    </tr>\n",
       "    <tr>\n",
       "      <th>5</th>\n",
       "      <td>FreeMsg Hey there darling it's been 3 week's n...</td>\n",
       "      <td>1</td>\n",
       "    </tr>\n",
       "    <tr>\n",
       "      <th>6</th>\n",
       "      <td>Even my brother is not like to speak with me. ...</td>\n",
       "      <td>0</td>\n",
       "    </tr>\n",
       "    <tr>\n",
       "      <th>7</th>\n",
       "      <td>As per your request 'Melle Melle (Oru Minnamin...</td>\n",
       "      <td>0</td>\n",
       "    </tr>\n",
       "    <tr>\n",
       "      <th>8</th>\n",
       "      <td>WINNER!! As a valued network customer you have...</td>\n",
       "      <td>1</td>\n",
       "    </tr>\n",
       "    <tr>\n",
       "      <th>9</th>\n",
       "      <td>Had your mobile 11 months or more? U R entitle...</td>\n",
       "      <td>1</td>\n",
       "    </tr>\n",
       "  </tbody>\n",
       "</table>\n",
       "</div>"
      ],
      "text/plain": [
       "                                                text  target\n",
       "0  Go until jurong point, crazy.. Available only ...       0\n",
       "1                      Ok lar... Joking wif u oni...       0\n",
       "2  Free entry in 2 a wkly comp to win FA Cup fina...       1\n",
       "3  U dun say so early hor... U c already then say...       0\n",
       "4  Nah I don't think he goes to usf, he lives aro...       0\n",
       "5  FreeMsg Hey there darling it's been 3 week's n...       1\n",
       "6  Even my brother is not like to speak with me. ...       0\n",
       "7  As per your request 'Melle Melle (Oru Minnamin...       0\n",
       "8  WINNER!! As a valued network customer you have...       1\n",
       "9  Had your mobile 11 months or more? U R entitle...       1"
      ]
     },
     "execution_count": 3,
     "metadata": {},
     "output_type": "execute_result"
    }
   ],
   "source": [
    "import pandas as pd\n",
    "import numpy as np\n",
    "\n",
    "spam_data = pd.read_csv('spam.csv')\n",
    "\n",
    "spam_data['target'] = np.where(spam_data['target']=='spam',1,0)\n",
    "spam_data.head(10)"
   ]
  },
  {
   "cell_type": "code",
   "execution_count": 4,
   "metadata": {
    "collapsed": true
   },
   "outputs": [],
   "source": [
    "from sklearn.model_selection import train_test_split\n",
    "\n",
    "\n",
    "X_train, X_test, y_train, y_test = train_test_split(spam_data['text'], \n",
    "                                                    spam_data['target'], \n",
    "                                                    random_state=0)"
   ]
  },
  {
   "cell_type": "markdown",
   "metadata": {},
   "source": [
    "### Question 1\n",
    "What percentage of the documents in `spam_data` are spam?\n",
    "\n",
    "*This function should return a float, the percent value (i.e. $ratio * 100$).*"
   ]
  },
  {
   "cell_type": "code",
   "execution_count": 5,
   "metadata": {},
   "outputs": [
    {
     "data": {
      "text/plain": [
       "13.406317300789663"
      ]
     },
     "execution_count": 5,
     "metadata": {},
     "output_type": "execute_result"
    }
   ],
   "source": [
    "def answer_one():\n",
    "    count = spam_data[spam_data['target'] == 1]\n",
    "    \n",
    "    return (len(count) / len(spam_data)) * 100 #Your answer here\n",
    "answer_one()"
   ]
  },
  {
   "cell_type": "markdown",
   "metadata": {},
   "source": [
    "### Question 2\n",
    "\n",
    "Fit the training data `X_train` using a Count Vectorizer with default parameters.\n",
    "\n",
    "What is the longest token in the vocabulary?\n",
    "\n",
    "*This function should return a string.*"
   ]
  },
  {
   "cell_type": "code",
   "execution_count": 6,
   "metadata": {},
   "outputs": [
    {
     "data": {
      "text/plain": [
       "'com1win150ppmx3age16subscription'"
      ]
     },
     "execution_count": 6,
     "metadata": {},
     "output_type": "execute_result"
    }
   ],
   "source": [
    "from sklearn.feature_extraction.text import CountVectorizer\n",
    "\n",
    "def answer_two():\n",
    "    vocabulary = list(CountVectorizer().fit(X_train).vocabulary_)  # list of vocabulary (convert dict tolist)\n",
    "    vocabulary.sort(key=len, reverse=True)\n",
    "    return vocabulary[0] #Your answer here\n",
    "answer_two()"
   ]
  },
  {
   "cell_type": "markdown",
   "metadata": {},
   "source": [
    "### Question 3\n",
    "\n",
    "Fit and transform the training data `X_train` using a Count Vectorizer with default parameters.\n",
    "\n",
    "Next, fit a fit a multinomial Naive Bayes classifier model with smoothing `alpha=0.1`. Find the area under the curve (AUC) score using the transformed test data.\n",
    "\n",
    "*This function should return the AUC score as a float.*"
   ]
  },
  {
   "cell_type": "code",
   "execution_count": 19,
   "metadata": {},
   "outputs": [
    {
     "data": {
      "text/plain": [
       "0.97208121827411165"
      ]
     },
     "execution_count": 19,
     "metadata": {},
     "output_type": "execute_result"
    }
   ],
   "source": [
    "from sklearn.naive_bayes import MultinomialNB\n",
    "from sklearn.metrics import roc_auc_score\n",
    "# from sklearn.feature_extraction.text import CountVectorizer\n",
    "\n",
    "def answer_three():\n",
    "    vectorizer = CountVectorizer()\n",
    "    vectorized_X_train = vectorizer.fit_transform(X_train)\n",
    "    \n",
    "    classifier_multiNB = MultinomialNB(alpha=0.1)\n",
    "    classifier_multiNB.fit(vectorized_X_train, y_train)\n",
    "    predictions = classifier_multiNB.predict(vectorizer.transform(X_test))\n",
    "    \n",
    "    score = roc_auc_score(y_test,predictions)\n",
    "    \n",
    "    return score #Your answer here\n",
    "answer_three()"
   ]
  },
  {
   "cell_type": "markdown",
   "metadata": {},
   "source": [
    "### Question 4\n",
    "\n",
    "Fit and transform the training data `X_train` using a Tfidf Vectorizer with default parameters.\n",
    "\n",
    "What 20 features have the smallest tf-idf and what 20 have the largest tf-idf?\n",
    "\n",
    "Put these features in a two series where each series is sorted by tf-idf value and then alphabetically by feature name. The index of the series should be the feature name, and the data should be the tf-idf.\n",
    "\n",
    "The series of 20 features with smallest tf-idfs should be sorted smallest tfidf first, the list of 20 features with largest tf-idfs should be sorted largest first. \n",
    "\n",
    "*This function should return a tuple of two series\n",
    "`(smallest tf-idfs series, largest tf-idfs series)`.*"
   ]
  },
  {
   "cell_type": "code",
   "execution_count": 20,
   "metadata": {},
   "outputs": [
    {
     "data": {
      "text/plain": [
       "(aaniye          0.074475\n",
       " athletic        0.074475\n",
       " chef            0.074475\n",
       " companion       0.074475\n",
       " courageous      0.074475\n",
       " dependable      0.074475\n",
       " determined      0.074475\n",
       " exterminator    0.074475\n",
       " healer          0.074475\n",
       " listener        0.074475\n",
       " organizer       0.074475\n",
       " pest            0.074475\n",
       " psychiatrist    0.074475\n",
       " psychologist    0.074475\n",
       " pudunga         0.074475\n",
       " stylist         0.074475\n",
       " sympathetic     0.074475\n",
       " venaam          0.074475\n",
       " afternoons      0.091250\n",
       " approaching     0.091250\n",
       " dtype: float64, 146tf150p    1.000000\n",
       " 645          1.000000\n",
       " anything     1.000000\n",
       " anytime      1.000000\n",
       " beerage      1.000000\n",
       " done         1.000000\n",
       " er           1.000000\n",
       " havent       1.000000\n",
       " home         1.000000\n",
       " lei          1.000000\n",
       " nite         1.000000\n",
       " ok           1.000000\n",
       " okie         1.000000\n",
       " thank        1.000000\n",
       " thanx        1.000000\n",
       " too          1.000000\n",
       " where        1.000000\n",
       " yup          1.000000\n",
       " tick         0.980166\n",
       " blank        0.932702\n",
       " dtype: float64)"
      ]
     },
     "execution_count": 20,
     "metadata": {},
     "output_type": "execute_result"
    }
   ],
   "source": [
    "def answer_four():\n",
    "    from sklearn.feature_extraction.text import TfidfVectorizer\n",
    "    \n",
    "    tfidf = TfidfVectorizer().fit(X_train)    \n",
    "    X_train_tf = tfidf.transform(X_train)\n",
    "    \n",
    "    dataframe = pd.DataFrame(X_train_tf.toarray(), columns=tfidf.get_feature_names())\n",
    "    liste = [(x,max(dataframe[x])) for x in dataframe.columns]\n",
    "    small_tfidf = sorted(liste,key=lambda x:(x[1],x[0]))[:20]\n",
    "    large_tfidf = sorted(liste,key=lambda x:(-x[1],x[0]))[:20]\n",
    "    \n",
    "    a = pd.Series([x[1] for x in small_tfidf], index=[x[0] for x in small_tfidf])\n",
    "    b = pd.Series([x[1] for x in large_tfidf], index=[x[0] for x in large_tfidf])\n",
    "\n",
    "    \n",
    "    return (a, b)\n",
    "answer_four()"
   ]
  },
  {
   "cell_type": "markdown",
   "metadata": {},
   "source": [
    "### Question 5\n",
    "\n",
    "Fit and transform the training data `X_train` using a Tfidf Vectorizer ignoring terms that have a document frequency strictly lower than **3**.\n",
    "\n",
    "Then fit a multinomial Naive Bayes classifier model with smoothing `alpha=0.1` and compute the area under the curve (AUC) score using the transformed test data.\n",
    "\n",
    "*This function should return the AUC score as a float.*"
   ]
  },
  {
   "cell_type": "code",
   "execution_count": 81,
   "metadata": {},
   "outputs": [
    {
     "data": {
      "text/plain": [
       "0.94162436548223349"
      ]
     },
     "execution_count": 81,
     "metadata": {},
     "output_type": "execute_result"
    }
   ],
   "source": [
    "def answer_five():\n",
    "    from sklearn.feature_extraction.text import TfidfVectorizer\n",
    "    from sklearn.naive_bayes import MultinomialNB\n",
    "    from sklearn.metrics import roc_auc_score\n",
    "    \n",
    "    vectorizer = TfidfVectorizer(min_df = 3).fit(X_train)\n",
    "    X_train_tf = vectorizer.transform(X_train)\n",
    "    \n",
    "    model_NB = MultinomialNB(alpha=0.1)\n",
    "    model_NB.fit(X_train_tf, y_train)\n",
    "    \n",
    "    predictions = model_NB.predict(vectorizer.transform(X_test))\n",
    "    \n",
    "    score = roc_auc_score(y_test,predictions)\n",
    "    \n",
    "    return score #Your answer here\n",
    "answer_five()"
   ]
  },
  {
   "cell_type": "markdown",
   "metadata": {},
   "source": [
    "### Question 6\n",
    "\n",
    "What is the average length of documents (number of characters) for not spam and spam documents?\n",
    "\n",
    "*This function should return a tuple (average length not spam, average length spam).*"
   ]
  },
  {
   "cell_type": "code",
   "execution_count": 116,
   "metadata": {},
   "outputs": [
    {
     "data": {
      "text/plain": [
       "(71.02362694300518, 138.8661311914324)"
      ]
     },
     "execution_count": 116,
     "metadata": {},
     "output_type": "execute_result"
    }
   ],
   "source": [
    "def answer_six():\n",
    "    from statistics import mean\n",
    "    list1 = [len(text) for text in spam_data[spam_data['target'] == 1]['text']]\n",
    "    list2 = [len(text) for text in spam_data[spam_data['target'] == 0]['text']]\n",
    "    \n",
    "    return (mean(list2),mean(list1)) #Your answer here\n",
    "answer_six()"
   ]
  },
  {
   "cell_type": "markdown",
   "metadata": {},
   "source": [
    "<br>\n",
    "<br>\n",
    "The following function has been provided to help you combine new features into the training data:"
   ]
  },
  {
   "cell_type": "code",
   "execution_count": 14,
   "metadata": {
    "collapsed": true
   },
   "outputs": [],
   "source": [
    "def add_feature(X, feature_to_add):\n",
    "    \"\"\"\n",
    "    Returns sparse feature matrix with added feature.\n",
    "    feature_to_add can also be a list of features.\n",
    "    \"\"\"\n",
    "    from scipy.sparse import csr_matrix, hstack\n",
    "    return hstack([X, csr_matrix(feature_to_add).T], 'csr')"
   ]
  },
  {
   "cell_type": "markdown",
   "metadata": {},
   "source": [
    "### Question 7\n",
    "\n",
    "Fit and transform the training data X_train using a Tfidf Vectorizer ignoring terms that have a document frequency strictly lower than **5**.\n",
    "\n",
    "Using this document-term matrix and an additional feature, **the length of document (number of characters)**, fit a Support Vector Classification model with regularization `C=10000`. Then compute the area under the curve (AUC) score using the transformed test data.\n",
    "\n",
    "*This function should return the AUC score as a float.*"
   ]
  },
  {
   "cell_type": "code",
   "execution_count": 168,
   "metadata": {},
   "outputs": [
    {
     "data": {
      "text/plain": [
       "0.95813668234215565"
      ]
     },
     "execution_count": 168,
     "metadata": {},
     "output_type": "execute_result"
    }
   ],
   "source": [
    "from sklearn.svm import SVC\n",
    "from sklearn.feature_extraction.text import TfidfVectorizer\n",
    "def answer_seven():\n",
    "    \n",
    "    X_train_documents_len = [len(text) for text in X_train]\n",
    "    X_test_documents_len = [len(text) for text in X_test]\n",
    "    \n",
    "    vectorizer = TfidfVectorizer(min_df = 5).fit(X_train)\n",
    "    X_train_tf = vectorizer.transform(X_train)\n",
    "    X_test_tf = vectorizer.transform(X_test)\n",
    "    \n",
    "    \n",
    "    \n",
    "    X_train_tf=  add_feature(X_train_tf, X_train_documents_len)\n",
    "    X_test_tf = add_feature(X_test_tf, X_test_documents_len)\n",
    "    \n",
    "    \n",
    "    model_svc = SVC(C=10000)\n",
    "    model_svc.fit(X_train_tf,y_train)\n",
    "    \n",
    "    predictions = model_svc.predict(X_test_tf)\n",
    "    \n",
    "    score = roc_auc_score(y_test,predictions)\n",
    "    \n",
    "    return score #Your answer here\n",
    "answer_seven()"
   ]
  },
  {
   "cell_type": "code",
   "execution_count": null,
   "metadata": {
    "collapsed": true
   },
   "outputs": [],
   "source": [
    "def count_number(text):\n",
    "    count = 0\n",
    "    for i in text:\n",
    "        if i.isdigit():\n",
    "            count+=1\n",
    "    return count"
   ]
  },
  {
   "cell_type": "markdown",
   "metadata": {},
   "source": [
    "### Question 8\n",
    "\n",
    "What is the average number of digits per document for not spam and spam documents?\n",
    "\n",
    "*This function should return a tuple (average # digits not spam, average # digits spam).*"
   ]
  },
  {
   "cell_type": "code",
   "execution_count": 200,
   "metadata": {},
   "outputs": [
    {
     "data": {
      "text/plain": [
       "(0.2992746113989637, 15.76037483266399)"
      ]
     },
     "execution_count": 200,
     "metadata": {},
     "output_type": "execute_result"
    }
   ],
   "source": [
    "def answer_eight():\n",
    "    from statistics import mean\n",
    "    \n",
    "    spam = [sum(digit.isnumeric() for digit in doc) for doc in spam_data[spam_data['target'] == 1]['text']]\n",
    "    nospam = [sum(digit.isnumeric() for digit in doc) for doc in spam_data[spam_data['target'] == 0]['text']]\n",
    "    \n",
    "    return (mean(nospam),mean(spam))\n",
    "answer_eight()"
   ]
  },
  {
   "cell_type": "markdown",
   "metadata": {},
   "source": [
    "### Question 9\n",
    "\n",
    "Fit and transform the training data `X_train` using a Tfidf Vectorizer ignoring terms that have a document frequency strictly lower than **5** and using **word n-grams from n=1 to n=3** (unigrams, bigrams, and trigrams).\n",
    "\n",
    "Using this document-term matrix and the following additional features:\n",
    "* the length of document (number of characters)\n",
    "* **number of digits per document**\n",
    "\n",
    "fit a Logistic Regression model with regularization `C=100`. Then compute the area under the curve (AUC) score using the transformed test data.\n",
    "\n",
    "*This function should return the AUC score as a float.*"
   ]
  },
  {
   "cell_type": "code",
   "execution_count": 23,
   "metadata": {},
   "outputs": [
    {
     "data": {
      "text/plain": [
       "0.96533283533945646"
      ]
     },
     "execution_count": 23,
     "metadata": {},
     "output_type": "execute_result"
    }
   ],
   "source": [
    "from sklearn.linear_model import LogisticRegression\n",
    "from sklearn.feature_extraction.text import TfidfVectorizer\n",
    "\n",
    "def answer_nine():\n",
    "    \n",
    "    X_train_documents_len = [len(text) for text in X_train]\n",
    "    X_test_documents_len = [len(text) for text in X_test]\n",
    "    \n",
    "    X_train_documents_digits = [sum(digit.isnumeric() for digit in doc) for doc in X_train]\n",
    "    X_test_documents_digits = [sum(digit.isnumeric() for digit in doc) for doc in X_test]\n",
    "    \n",
    "    \n",
    "    vectorizer = TfidfVectorizer(min_df = 5, ngram_range=(1,3)).fit(X_train)\n",
    "    X_train_tf = vectorizer.transform(X_train)\n",
    "    X_test_tf = vectorizer.transform(X_test)\n",
    "    \n",
    "    X_train_tf=  add_feature(X_train_tf, X_train_documents_len)\n",
    "    X_train_tf=  add_feature(X_train_tf, X_train_documents_digits)\n",
    "    \n",
    "    X_test_tf = add_feature(X_test_tf, X_test_documents_len)\n",
    "    X_test_tf = add_feature(X_test_tf, X_test_documents_digits)\n",
    "    \n",
    "    model_svc = LogisticRegression(C=100)\n",
    "    model_svc.fit(X_train_tf,y_train)\n",
    "    \n",
    "    predictions = model_svc.predict(X_test_tf)\n",
    "    \n",
    "    score = roc_auc_score(y_test,predictions)\n",
    "    \n",
    "    return score #Your answer here\n",
    "answer_nine()"
   ]
  },
  {
   "cell_type": "markdown",
   "metadata": {},
   "source": [
    "### Question 10\n",
    "\n",
    "What is the average number of non-word characters (anything other than a letter, digit or underscore) per document for not spam and spam documents?\n",
    "\n",
    "*Hint: Use `\\w` and `\\W` character classes*\n",
    "\n",
    "*This function should return a tuple (average # non-word characters not spam, average # non-word characters spam).*"
   ]
  },
  {
   "cell_type": "code",
   "execution_count": 6,
   "metadata": {
    "collapsed": true
   },
   "outputs": [],
   "source": [
    "def search_nonword(text):\n",
    "    import re\n",
    "    return re.findall('\\W',text)"
   ]
  },
  {
   "cell_type": "code",
   "execution_count": 16,
   "metadata": {},
   "outputs": [
    {
     "data": {
      "text/plain": [
       "(17.291813471502589, 29.041499330655956)"
      ]
     },
     "execution_count": 16,
     "metadata": {},
     "output_type": "execute_result"
    }
   ],
   "source": [
    "def answer_ten():\n",
    "    from statistics import mean\n",
    "    \n",
    "    spam_nonWords = [len(search_nonword(doc)) for doc in spam_data[spam_data['target'] == 1]['text']]\n",
    "    nospam_nonWords = [len(search_nonword(doc)) for doc in spam_data[spam_data['target'] == 0]['text']]\n",
    "    \n",
    "#     return (np.mean(spam_data.loc[spam_data['target']==0,'text'].str.count('\\W')), \n",
    "#             np.mean(spam_data.loc[spam_data['target']==1,'text'].str.count('\\W')))\n",
    "\n",
    "#     return(mean(nospam_nonWords),mean(spam_nonWords))\n",
    "\n",
    "    return (np.mean(spam_data[spam_data['target'] == 0]['text'].str.count('\\W')), \n",
    "            np.mean(spam_data[spam_data['target'] == 1]['text'].str.count('\\W')))\n",
    "answer_ten()"
   ]
  },
  {
   "cell_type": "markdown",
   "metadata": {},
   "source": [
    "### Question 11\n",
    "\n",
    "Fit and transform the training data X_train using a Count Vectorizer ignoring terms that have a document frequency strictly lower than **5** and using **character n-grams from n=2 to n=5.**\n",
    "\n",
    "To tell Count Vectorizer to use character n-grams pass in `analyzer='char_wb'` which creates character n-grams only from text inside word boundaries. This should make the model more robust to spelling mistakes.\n",
    "\n",
    "Using this document-term matrix and the following additional features:\n",
    "* the length of document (number of characters)\n",
    "* number of digits per document\n",
    "* **number of non-word characters (anything other than a letter, digit or underscore.)**\n",
    "\n",
    "fit a Logistic Regression model with regularization C=100. Then compute the area under the curve (AUC) score using the transformed test data.\n",
    "\n",
    "Also **find the 10 smallest and 10 largest coefficients from the model** and return them along with the AUC score in a tuple.\n",
    "\n",
    "The list of 10 smallest coefficients should be sorted smallest first, the list of 10 largest coefficients should be sorted largest first.\n",
    "\n",
    "The three features that were added to the document term matrix should have the following names should they appear in the list of coefficients:\n",
    "['length_of_doc', 'digit_count', 'non_word_char_count']\n",
    "\n",
    "*This function should return a tuple `(AUC score as a float, smallest coefs list, largest coefs list)`.*"
   ]
  },
  {
   "cell_type": "code",
   "execution_count": 24,
   "metadata": {},
   "outputs": [
    {
     "data": {
      "text/plain": [
       "(0.97885931107074342,\n",
       " ['. ', '..', '? ', ' i', ' y', ' go', ':)', ' h', 'go', ' m'],\n",
       " ['digit_count', 'ne', 'ia', 'co', 'xt', ' ch', 'mob', ' x', 'ww', 'ar'])"
      ]
     },
     "execution_count": 24,
     "metadata": {},
     "output_type": "execute_result"
    }
   ],
   "source": [
    "from sklearn.feature_extraction.text import CountVectorizer\n",
    "from sklearn.linear_model import LogisticRegression\n",
    "from sklearn.metrics import roc_auc_score\n",
    "def answer_eleven():\n",
    "    \n",
    "    X_train_documents_len = [len(text) for text in X_train]\n",
    "    X_test_documents_len = [len(text) for text in X_test]\n",
    "    \n",
    "    X_train_documents_digits = [sum(digit.isnumeric() for digit in doc) for doc in X_train]\n",
    "    X_test_documents_digits = [sum(digit.isnumeric() for digit in doc) for doc in X_test]\n",
    "    \n",
    "    X_train_nonWords = [len(search_nonword(doc)) for doc in X_train]\n",
    "    X_test_nonWords = [len(search_nonword(doc)) for doc in X_test]\n",
    "\n",
    "    \n",
    "    vectorizer = CountVectorizer(min_df=5, ngram_range=(2,5),analyzer='char_wb')\n",
    "    \n",
    "    X_train_tf = vectorizer.fit_transform(X_train)\n",
    "    X_test_tf = vectorizer.transform(X_test)\n",
    "    \n",
    "    X_train_tf=  add_feature(X_train_tf, X_train_documents_len)\n",
    "    X_train_tf=  add_feature(X_train_tf, X_train_documents_digits)\n",
    "    X_train_tf = add_feature(X_train_tf, X_train_nonWords)\n",
    "    \n",
    "    X_test_tf = add_feature(X_test_tf, X_test_documents_len)\n",
    "    X_test_tf = add_feature(X_test_tf, X_test_documents_digits)\n",
    "    X_test_tf = add_feature(X_test_tf, X_test_nonWords)\n",
    "    \n",
    "    \n",
    "    \n",
    "    model_LR = LogisticRegression(C=100)\n",
    "    model_LR.fit(X_train_tf,y_train)\n",
    "    \n",
    "    predictions = model_LR.predict(X_test_tf)\n",
    "    \n",
    "    score = roc_auc_score(y_test,predictions)\n",
    "    \n",
    "    feature_names = np.array(vectorizer.get_feature_names() + ['length_of_doc', 'digit_count', 'non_word_char_count'])\n",
    "    sorted_coef_index = model_LR.coef_[0].argsort()\n",
    "    small_coeffs = list(feature_names[sorted_coef_index[:10]])\n",
    "    large_coeffs = list(feature_names[sorted_coef_index[:-11:-1]])\n",
    "    \n",
    "    return (score, small_coeffs, large_coeffs)\n",
    "    \n",
    "    \n",
    "    \n",
    "    return score\n",
    "answer_eleven()"
   ]
  }
 ],
 "metadata": {
  "coursera": {
   "course_slug": "python-text-mining",
   "graded_item_id": "Pn19K",
   "launcher_item_id": "y1juS",
   "part_id": "ctlgo"
  },
  "kernelspec": {
   "display_name": "Python 3",
   "language": "python",
   "name": "python3"
  },
  "language_info": {
   "codemirror_mode": {
    "name": "ipython",
    "version": 3
   },
   "file_extension": ".py",
   "mimetype": "text/x-python",
   "name": "python",
   "nbconvert_exporter": "python",
   "pygments_lexer": "ipython3",
   "version": "3.6.2"
  }
 },
 "nbformat": 4,
 "nbformat_minor": 2
}
